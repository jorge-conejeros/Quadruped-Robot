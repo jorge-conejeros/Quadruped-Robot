{
 "cells": [
  {
   "attachments": {},
   "cell_type": "markdown",
   "metadata": {},
   "source": [
    "<h2> Taller 4 - CoppeliaSim y Python</h2>\n",
    "\n",
    "<br>Requiere que los archivos 'sim.py', 'simConst.py', 'remoteapi.dll' estén alojados en la misma carpeta que este cuaderno de Jupyter\n",
    "<br><h4> Instrucciones</h4>\n",
    "<br>1. Abra la escena robotPlanar.ttt\n",
    "<br>2. Seleccionando la base del robot desde la jerarquía de escena, presione botón derecho del mouse y agregue un archivo de script mediante Add -> Associated child script -> Non threaded. Aparecerá un pequeño ícono de documento junto al nombre del robot en la escena de jerarquía.\n",
    "<br>3. En el script es posible incluir código de programación, escritos en lenguaje LUA. Para nuestro caso, todo el código que requeriremos es habilitar el API remoto, asignando un puerto de comunicación. En la función <b>sysCall_init()</b> agregue la siguiente línea:\n",
    "<br> \n",
    "<font face = \"Monospace\"> <pre> simRemoteApi.start(19999)</font>\n",
    "<br> Proceda a continuación con las actividades:"
   ]
  },
  {
   "cell_type": "code",
   "execution_count": 4,
   "metadata": {},
   "outputs": [
    {
     "name": "stdout",
     "output_type": "stream",
     "text": [
      "Collecting numpy\n",
      "  Downloading numpy-1.24.3-cp311-cp311-win_amd64.whl (14.8 MB)\n",
      "     ---------------------------------------- 0.0/14.8 MB ? eta -:--:--\n",
      "     ---------------------------------------- 0.0/14.8 MB 1.4 MB/s eta 0:00:11\n",
      "     --------------------------------------- 0.1/14.8 MB 919.0 kB/s eta 0:00:17\n",
      "     ---------------------------------------- 0.1/14.8 MB 1.1 MB/s eta 0:00:14\n",
      "      --------------------------------------- 0.3/14.8 MB 1.6 MB/s eta 0:00:09\n",
      "     - -------------------------------------- 0.5/14.8 MB 2.3 MB/s eta 0:00:07\n",
      "     - -------------------------------------- 0.7/14.8 MB 2.5 MB/s eta 0:00:06\n",
      "     -- ------------------------------------- 0.8/14.8 MB 2.8 MB/s eta 0:00:06\n",
      "     --- ------------------------------------ 1.3/14.8 MB 3.6 MB/s eta 0:00:04\n",
      "     ---- ----------------------------------- 1.8/14.8 MB 4.5 MB/s eta 0:00:03\n",
      "     ------- -------------------------------- 2.7/14.8 MB 5.9 MB/s eta 0:00:03\n",
      "     ------------ --------------------------- 4.6/14.8 MB 9.2 MB/s eta 0:00:02\n",
      "     ------------ --------------------------- 4.6/14.8 MB 9.2 MB/s eta 0:00:02\n",
      "     -------------------------- ------------- 9.8/14.8 MB 16.5 MB/s eta 0:00:01\n",
      "     --------------------------------------  14.8/14.8 MB 81.8 MB/s eta 0:00:01\n",
      "     --------------------------------------  14.8/14.8 MB 81.8 MB/s eta 0:00:01\n",
      "     --------------------------------------  14.8/14.8 MB 81.8 MB/s eta 0:00:01\n",
      "     --------------------------------------  14.8/14.8 MB 81.8 MB/s eta 0:00:01\n",
      "     --------------------------------------  14.8/14.8 MB 81.8 MB/s eta 0:00:01\n",
      "     --------------------------------------  14.8/14.8 MB 81.8 MB/s eta 0:00:01\n",
      "     --------------------------------------  14.8/14.8 MB 81.8 MB/s eta 0:00:01\n",
      "     --------------------------------------  14.8/14.8 MB 81.8 MB/s eta 0:00:01\n",
      "     --------------------------------------  14.8/14.8 MB 81.8 MB/s eta 0:00:01\n",
      "     --------------------------------------  14.8/14.8 MB 81.8 MB/s eta 0:00:01\n",
      "     --------------------------------------  14.8/14.8 MB 81.8 MB/s eta 0:00:01\n",
      "     --------------------------------------  14.8/14.8 MB 81.8 MB/s eta 0:00:01\n",
      "     --------------------------------------  14.8/14.8 MB 81.8 MB/s eta 0:00:01\n",
      "     --------------------------------------  14.8/14.8 MB 81.8 MB/s eta 0:00:01\n",
      "     --------------------------------------  14.8/14.8 MB 81.8 MB/s eta 0:00:01\n",
      "     --------------------------------------  14.8/14.8 MB 81.8 MB/s eta 0:00:01\n",
      "     --------------------------------------  14.8/14.8 MB 81.8 MB/s eta 0:00:01\n",
      "     --------------------------------------  14.8/14.8 MB 81.8 MB/s eta 0:00:01\n",
      "     --------------------------------------  14.8/14.8 MB 81.8 MB/s eta 0:00:01\n",
      "     --------------------------------------  14.8/14.8 MB 81.8 MB/s eta 0:00:01\n",
      "     ---------------------------------------- 14.8/14.8 MB 9.8 MB/s eta 0:00:00\n",
      "Installing collected packages: numpy\n",
      "Successfully installed numpy-1.24.3\n",
      "Note: you may need to restart the kernel to use updated packages.\n"
     ]
    }
   ],
   "source": [
    "pip install numpy"
   ]
  },
  {
   "cell_type": "code",
   "execution_count": 2,
   "metadata": {},
   "outputs": [],
   "source": [
    "import sim\n",
    "import numpy as np"
   ]
  },
  {
   "attachments": {},
   "cell_type": "markdown",
   "metadata": {},
   "source": [
    "### 1. Establecer la conexión\n",
    "Utilizaremos las funciones del API Remoto de VREP.\n",
    "<br> Para más detalles refiérase a la documentación de la librería:\n",
    "<br> http://www.coppeliarobotics.com/helpFiles/en/remoteApiFunctionsPython.htm"
   ]
  },
  {
   "cell_type": "code",
   "execution_count": 15,
   "metadata": {},
   "outputs": [],
   "source": [
    "def connect(port):\n",
    "# Establece la conexión a VREP\n",
    "# port debe coincidir con el puerto de conexión en VREP\n",
    "# retorna el número de cliente o -1 si no puede establecer conexión\n",
    "    sim.simxFinish(-1) # just in case, close all opened connections\n",
    "    clientID=sim.simxStart('127.0.0.1',port,True,True,2000,5) # Conectarse\n",
    "    if clientID == 0: print(\"conectado a\", port)\n",
    "    else: print(\"no se pudo conectar\")\n",
    "    return clientID\n"
   ]
  },
  {
   "cell_type": "code",
   "execution_count": 16,
   "metadata": {},
   "outputs": [
    {
     "name": "stdout",
     "output_type": "stream",
     "text": [
      "conectado a 19999\n"
     ]
    }
   ],
   "source": [
    "# Conectarse al servidor de VREP\n",
    "# *** ejecutar cada vez que se reinicia la simulación ***\n",
    "clientID = connect(19999)"
   ]
  },
  {
   "attachments": {},
   "cell_type": "markdown",
   "metadata": {},
   "source": [
    "<h3> 2. Obtener los manejadores (handlers)</h3>\n",
    "Un manejador (handler) es un número identificador que asigna VREP para cada uno de los elementos de la escena. A través de su manejador se puede hacer referencia a un elemento en específico de la escena."
   ]
  },
  {
   "cell_type": "code",
   "execution_count": 17,
   "metadata": {},
   "outputs": [
    {
     "name": "stdout",
     "output_type": "stream",
     "text": [
      "24\n"
     ]
    }
   ],
   "source": [
    "# Obtenemos el manejador para el dummy \n",
    "returnCode,handle=sim.simxGetObjectHandle(clientID,'Dummy',sim.simx_opmode_blocking)\n",
    "dummy = handle\n",
    "print(dummy)"
   ]
  },
  {
   "cell_type": "code",
   "execution_count": 18,
   "metadata": {},
   "outputs": [
    {
     "name": "stdout",
     "output_type": "stream",
     "text": [
      "[0.007934832014143467, -0.0750008225440979, 0.047638241201639175]\n"
     ]
    }
   ],
   "source": [
    "# A partir de su manejador podemos accionar sobre el objeto,\n",
    "# por ejemplo, obtener su posición\n",
    "returnCode,pos=sim.simxGetObjectPosition(clientID, dummy, -1, sim.simx_opmode_blocking)\n",
    "print(pos)"
   ]
  },
  {
   "cell_type": "code",
   "execution_count": 19,
   "metadata": {},
   "outputs": [
    {
     "name": "stdout",
     "output_type": "stream",
     "text": [
      "22 23\n"
     ]
    }
   ],
   "source": [
    "# Obtenemos los manejadores para cada una de las articulaciones del robot\n",
    "ret,joint1=sim.simxGetObjectHandle(clientID,'Art_1',sim.simx_opmode_blocking)\n",
    "ret,joint2=sim.simxGetObjectHandle(clientID,'Art_2',sim.simx_opmode_blocking)\n",
    "print(joint1, joint2)"
   ]
  },
  {
   "attachments": {},
   "cell_type": "markdown",
   "metadata": {},
   "source": [
    "<h3> 3. ¿Cuál es la posición de las articulaciones?</h3>\n",
    "Utilizando los manejadores, podemos obtener información de los elementos."
   ]
  },
  {
   "cell_type": "code",
   "execution_count": 20,
   "metadata": {},
   "outputs": [
    {
     "name": "stdout",
     "output_type": "stream",
     "text": [
      "0.5235990285873413\n"
     ]
    }
   ],
   "source": [
    "# leemos la posición de joint1, en radianes.\n",
    "returnCode, pos1 = sim.simxGetJointPosition(clientID, joint1, sim.simx_opmode_blocking)\n",
    "print(pos1)"
   ]
  },
  {
   "cell_type": "code",
   "execution_count": 21,
   "metadata": {},
   "outputs": [
    {
     "name": "stdout",
     "output_type": "stream",
     "text": [
      "-0.6981316804885864\n"
     ]
    }
   ],
   "source": [
    "returnCode, pos2 = sim.simxGetJointPosition(clientID, joint2, sim.simx_opmode_blocking)\n",
    "print(pos2)"
   ]
  },
  {
   "attachments": {},
   "cell_type": "markdown",
   "metadata": {},
   "source": [
    "<h3> 4. ... y movemos el robot</h3>\n",
    "Utilizando los manejadores, podemos enviar parámetros a los elementos."
   ]
  },
  {
   "cell_type": "code",
   "execution_count": 38,
   "metadata": {},
   "outputs": [
    {
     "name": "stdout",
     "output_type": "stream",
     "text": [
      "8\n"
     ]
    }
   ],
   "source": [
    "# enviamos la posición de joint1, en radianes.\n",
    "grados = -30\n",
    "q1 = grados * np.pi/180\n",
    "returnCode = sim.simxSetJointTargetPosition(clientID, joint1, q1, sim.simx_opmode_oneshot)\n",
    "print(returnCode)"
   ]
  },
  {
   "cell_type": "code",
   "execution_count": 17,
   "metadata": {},
   "outputs": [
    {
     "name": "stdout",
     "output_type": "stream",
     "text": [
      "1\n"
     ]
    }
   ],
   "source": [
    "q2 = 30 * np.pi/180\n",
    "returnCode = sim.simxSetJointTargetPosition(clientID, joint2, q2, sim.simx_opmode_oneshot)\n",
    "print(returnCode)"
   ]
  },
  {
   "cell_type": "code",
   "execution_count": 35,
   "metadata": {},
   "outputs": [
    {
     "name": "stdout",
     "output_type": "stream",
     "text": [
      "conectado a 19999\n"
     ]
    }
   ],
   "source": [
    "# Ponemos todo el código junto\n",
    "# conectamos\n",
    "clientID = connect(19999)\n",
    "# obtenemos los manejadores\n",
    "returnCode,handle=sim.simxGetObjectHandle(clientID,'Dummy',sim.simx_opmode_blocking)\n",
    "dummy = handle\n",
    "ret,joint1=sim.simxGetObjectHandle(clientID,'joint1',sim.simx_opmode_blocking)\n",
    "ret,joint2=sim.simxGetObjectHandle(clientID,'joint2',sim.simx_opmode_blocking)\n",
    "#movemos\n",
    "q1 = -90 * np.pi/180\n",
    "returnCode = sim.simxSetJointTargetPosition(clientID, joint1, q1, sim.simx_opmode_oneshot)\n",
    "q2 = 0 * np.pi/180\n",
    "returnCode = sim.simxSetJointTargetPosition(clientID, joint2, q2, sim.simx_opmode_oneshot)\n",
    "\n"
   ]
  },
  {
   "cell_type": "code",
   "execution_count": 36,
   "metadata": {},
   "outputs": [
    {
     "name": "stdout",
     "output_type": "stream",
     "text": [
      "[0.007592835463583469, -0.0750008299946785, 0.04759540408849716]\n"
     ]
    }
   ],
   "source": [
    "returnCode,pos=sim.simxGetObjectPosition(clientID, dummy, -1, sim.simx_opmode_blocking)\n",
    "print(pos)"
   ]
  },
  {
   "cell_type": "code",
   "execution_count": null,
   "metadata": {},
   "outputs": [],
   "source": []
  }
 ],
 "metadata": {
  "kernelspec": {
   "display_name": "Python 3 (ipykernel)",
   "language": "python",
   "name": "python3"
  },
  "language_info": {
   "codemirror_mode": {
    "name": "ipython",
    "version": 3
   },
   "file_extension": ".py",
   "mimetype": "text/x-python",
   "name": "python",
   "nbconvert_exporter": "python",
   "pygments_lexer": "ipython3",
   "version": "3.8.6"
  }
 },
 "nbformat": 4,
 "nbformat_minor": 2
}
