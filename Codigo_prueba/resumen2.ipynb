{
 "cells": [
  {
   "cell_type": "code",
   "execution_count": null,
   "metadata": {},
   "outputs": [],
   "source": [
    "import sim\n",
    "import numpy as np\n",
    "import sympy as sp\n",
    "import matplotlib.pyplot as plt\n",
    "import pandas as pd\n",
    "import random\n",
    "import numpy as np\n",
    "\n",
    "def connect(port):\n",
    "# Establece la conexión a VREP\n",
    "# port debe coincidir con el puerto de conexión en VREP\n",
    "# retorna el número de cliente o -1 si no puede establecer conexión\n",
    "    sim.simxFinish(-1) # just in case, close all opened connections\n",
    "    clientID=sim.simxStart('127.0.0.1',port,True,True,2000,5) # Conectarse\n",
    "    if clientID == 0: print(\"conectado a\", port)\n",
    "    else: print(\"no se pudo conectar\")\n",
    "    return clientID\n",
    "\n",
    "# Conectarse al servidor de VREP\n",
    "# *** ejecutar cada vez que se reinicia la simulación ***\n",
    "clientID = connect(19999)\n",
    "\n",
    "# Identificar dummy\n",
    "returnCode,dummy=sim.simxGetObjectHandle(clientID,'Dummy',sim.simx_opmode_blocking)\n",
    "# Identificar las Articulaciones\n",
    "ret,joint1=sim.simxGetObjectHandle(clientID,'Art_1',sim.simx_opmode_blocking)\n",
    "ret,joint2=sim.simxGetObjectHandle(clientID,'Art_2',sim.simx_opmode_blocking)\n",
    "\n",
    "# Alcance mázimo de la pata\n",
    "returnCode = sim.simxSetJointTargetPosition(clientID, joint1, 0, sim.simx_opmode_oneshot)\n",
    "returnCode = sim.simxSetJointTargetPosition(clientID, joint2, 0, sim.simx_opmode_oneshot)\n",
    "returnCode,pos_joint1=sim.simxGetObjectPosition(clientID, joint1, -1, sim.simx_opmode_blocking)\n",
    "returnCode,pos_dummy=sim.simxGetObjectPosition(clientID, dummy, -1, sim.simx_opmode_blocking)\n",
    "alcance_pata = pos_joint1[2]-pos_dummy[2]\n",
    "\n",
    "#------------------------------------------------------------------------------\n",
    "#\n",
    "#              INGRESAR VALOR de la altura del robot en centimetros\n",
    "#\n",
    "#------------------------------------------------------------------------------\n",
    "# Altura del robot en relación al piso\n",
    "altura_robot = 8 # centimetros\n",
    "altura_robot = altura_robot/100# metros\n",
    "\n",
    "# Valores para grafica\n",
    "piso = round((pos_joint1[2]-altura_robot),4)\n",
    "alcanceMax = round((pos_joint1[2]-alcance_pata),4)\n",
    "\n"
   ]
  },
  {
   "attachments": {},
   "cell_type": "markdown",
   "metadata": {},
   "source": [
    "### Generar Datos de Entrenamiento"
   ]
  },
  {
   "cell_type": "code",
   "execution_count": null,
   "metadata": {},
   "outputs": [],
   "source": [
    "# Cantidad de datos generados aleatoriamente\n",
    "repeticiones = 10000\n",
    "\n",
    "#[muslo,rodilla,posx,posy,posz]\n",
    "data_training = np.array([[0,0,0,0,0]])  # Arreglo de características, cada fila representa una instancia\n",
    "\n",
    "for i in range(repeticiones):\n",
    "    # Muslo Radiant\n",
    "    joint1_thetha = random.uniform(-1.5708, 0)\n",
    "    # Rodilla Radiant\n",
    "    joint2_thetha = random.uniform(0, 2.0944)\n",
    "    returnCode = sim.simxSetJointTargetPosition(clientID, joint1, joint1_thetha, sim.simx_opmode_oneshot)\n",
    "    returnCode = sim.simxSetJointTargetPosition(clientID, joint2, joint2_thetha, sim.simx_opmode_oneshot)\n",
    "    returnCode,pos_dummy=sim.simxGetObjectPosition(clientID, dummy, -1, sim.simx_opmode_blocking)\n",
    "    new_row = np.array([joint1_thetha,joint2_thetha,pos_dummy[0],pos_dummy[1],pos_dummy[2]])\n",
    "    data_training = np.append(data_training, [new_row],axis=0)\n",
    "    if i == 1:\n",
    "        data_training = np.delete(data_training, 0, axis=0)\n",
    "\n",
    "labels = [\"Muslo\", \"Rodilla\",\"Dummy_X\", \"Dummy_Y\", \"Dummy_Z\"]\n",
    "data = pd.DataFrame(data_training, columns=labels)"
   ]
  },
  {
   "attachments": {},
   "cell_type": "markdown",
   "metadata": {},
   "source": [
    "#### Guardar Data de entrenamiento"
   ]
  },
  {
   "cell_type": "code",
   "execution_count": null,
   "metadata": {},
   "outputs": [],
   "source": [
    "# Guardar el FataFrame\n",
    "# df.to_csv('data.txt', sep='\\t', index=False)\n",
    "# Leer el DataFrame\n",
    "# df = pd.read_csv('data.txt', sep='\\t')\n",
    "data.to_csv('data.txt', sep='\\t', index=False)"
   ]
  },
  {
   "attachments": {},
   "cell_type": "markdown",
   "metadata": {},
   "source": [
    "#### Graficar Datos"
   ]
  },
  {
   "cell_type": "code",
   "execution_count": null,
   "metadata": {},
   "outputs": [],
   "source": [
    "plt.scatter(data[\"Dummy_X\"], data[\"Dummy_Z\"])\n",
    "plt.axhline(y=alcanceMax, color='r', linestyle='--')\n",
    "plt.axhline(y=piso, color='g', linestyle='--')\n",
    "# Personalizar el gráfico\n",
    "plt.xlabel('X')\n",
    "plt.ylabel('Z (Y)')\n",
    "plt.title('Gráfico de columnas seleccionadas')\n",
    "# Mostrar el gráfico\n",
    "plt.show()"
   ]
  },
  {
   "attachments": {},
   "cell_type": "markdown",
   "metadata": {},
   "source": [
    "#### Encontrar alcances maximos en el piso"
   ]
  },
  {
   "cell_type": "code",
   "execution_count": null,
   "metadata": {},
   "outputs": [],
   "source": [
    "raz_de_piso = data.loc[(data[\"Dummy_Z\"] >= piso*0.9) & (data[\"Dummy_Z\"] <= piso*1.1)]\n",
    "max_izquierda = [round(raz_de_piso[\"Dummy_X\"].min(), 4) , round(raz_de_piso[\"Dummy_Z\"].loc[raz_de_piso[\"Dummy_X\"].idxmin()], 4)]\n",
    "max_derecha =   [round(raz_de_piso[\"Dummy_X\"].max(), 4) , round(raz_de_piso[\"Dummy_Z\"].loc[raz_de_piso[\"Dummy_X\"].idxmax()], 4)]\n",
    "print(max_izquierda, \"Alcance maximo adelante\")\n",
    "print(max_derecha, \"Alcance maximo trasero\")"
   ]
  }
 ],
 "metadata": {
  "language_info": {
   "name": "python"
  },
  "orig_nbformat": 4
 },
 "nbformat": 4,
 "nbformat_minor": 2
}
