{
 "cells": [
  {
   "attachments": {},
   "cell_type": "markdown",
   "metadata": {},
   "source": [
    "<h2> Taller 9 - Cinemática Diferencial</h2>\n",
    "\n",
    "<br>Requiere que los archivos 'sim.py', 'simConst.py', 'remoteapi.dll' estén alojados en la misma carpeta que este cuaderno de Jupyter.\n",
    "<br> Desde CoppeliaSim, abrir la escena robotPlanar.ttt\n"
   ]
  },
  {
   "cell_type": "code",
   "execution_count": 77,
   "metadata": {},
   "outputs": [],
   "source": [
    "# importamos las librerías necesarias\n",
    "import sim\n",
    "import sympy as sp"
   ]
  },
  {
   "attachments": {},
   "cell_type": "markdown",
   "metadata": {},
   "source": [
    "###  Conectamos con Sim y obtenemos los manejadores\n",
    "Utilizamos las funciones del API Remoto de VREP.\n",
    "<br> Para más detalles refiérase a la documentación de la librería:\n",
    "<br> http://www.coppeliarobotics.com/helpFiles/en/remoteApiFunctionsPython.htm"
   ]
  },
  {
   "cell_type": "code",
   "execution_count": 78,
   "metadata": {},
   "outputs": [],
   "source": [
    "def connect(port):\n",
    "# Establece la conexión a CoppeliaSim\n",
    "# port debe coincidir con el puerto de conexión en VREP\n",
    "# retorna el número de cliente o -1 si no puede establecer conexión\n",
    "    sim.simxFinish(-1) # just in case, close all opened connections\n",
    "    clientID=sim.simxStart('127.0.0.1',port,True,True,2000,5) # Conectarse\n",
    "    if clientID == 0: print(\"conectado a\", port)\n",
    "    else: print(\"no se pudo conectar\")\n",
    "    return clientID\n"
   ]
  },
  {
   "cell_type": "code",
   "execution_count": 79,
   "metadata": {},
   "outputs": [
    {
     "name": "stdout",
     "output_type": "stream",
     "text": [
      "conectado a 19999\n",
      "21 17 19\n"
     ]
    }
   ],
   "source": [
    "# Conectarse al servidor y obtener manejadores\n",
    "clientID = connect(19999)\n",
    "\n",
    "retCode,Dummy=sim.simxGetObjectHandle(clientID,'Dummy',sim.simx_opmode_blocking)\n",
    "retCode,joint1=sim.simxGetObjectHandle(clientID,'joint1',sim.simx_opmode_blocking)\n",
    "retCode,joint2=sim.simxGetObjectHandle(clientID,'joint2',sim.simx_opmode_blocking)\n",
    "print(Dummy, joint1, joint2)"
   ]
  },
  {
   "attachments": {},
   "cell_type": "markdown",
   "metadata": {},
   "source": [
    "<h3> 1. Obtenemos la cinemática directa</h3>\n",
    "Conocidos los ángulos de las articulaciones, podemos conocer la posición final del actuador."
   ]
  },
  {
   "cell_type": "code",
   "execution_count": null,
   "metadata": {},
   "outputs": [],
   "source": [
    "# Comenzamos desde la descripción de Denavit-Hartenberg\n",
    "#      theta     |      d      |      a      |    alpha\n",
    "# ----------------------------------------------------------\n",
    "#       q1             0             0.2            0\n",
    "#       q2             0             0.2            0"
   ]
  },
  {
   "cell_type": "code",
   "execution_count": 80,
   "metadata": {},
   "outputs": [],
   "source": [
    "# Definimos una función para construir las matrices de transformación\n",
    "# en forma simbóĺica a partir de los parámetros D-H\n",
    "\n",
    "def symTfromDH(theta, d, a, alpha):\n",
    "    # theta y alpha en radianes\n",
    "    # d y a en metros\n",
    "    Rz = sp.Matrix([[sp.cos(theta), -sp.sin(theta), 0, 0],\n",
    "                   [sp.sin(theta), sp.cos(theta), 0, 0],\n",
    "                   [0, 0, 1, 0],\n",
    "                   [0, 0, 0, 1]])\n",
    "    tz = sp.Matrix([[1, 0, 0, 0],\n",
    "                   [0, 1, 0, 0],\n",
    "                   [0, 0, 1, d],\n",
    "                   [0, 0, 0, 1]])\n",
    "    ta = sp.Matrix([[1, 0, 0, a],\n",
    "                   [0, 1, 0, 0],\n",
    "                   [0, 0, 1, 0],\n",
    "                   [0, 0, 0, 1]])\n",
    "    Rx = sp.Matrix([[1, 0, 0, 0],\n",
    "                   [0, sp.cos(alpha), -sp.sin(alpha), 0],\n",
    "                   [0, sp.sin(alpha), sp.cos(alpha), 0],\n",
    "                   [0, 0, 0, 1]])\n",
    "    T = Rz*tz*ta*Rx\n",
    "    return T"
   ]
  },
  {
   "cell_type": "code",
   "execution_count": 81,
   "metadata": {},
   "outputs": [
    {
     "data": {
      "text/latex": [
       "$\\displaystyle \\left[\\begin{matrix}\\cos{\\left(q_{1} + q_{2} \\right)} & - \\sin{\\left(q_{1} + q_{2} \\right)} & 0 & 0.2 \\cos{\\left(q_{1} \\right)} + 0.2 \\cos{\\left(q_{1} + q_{2} \\right)}\\\\\\sin{\\left(q_{1} + q_{2} \\right)} & \\cos{\\left(q_{1} + q_{2} \\right)} & 0 & 0.2 \\sin{\\left(q_{1} \\right)} + 0.2 \\sin{\\left(q_{1} + q_{2} \\right)}\\\\0 & 0 & 1 & 0\\\\0 & 0 & 0 & 1\\end{matrix}\\right]$"
      ],
      "text/plain": [
       "Matrix([\n",
       "[cos(q1 + q2), -sin(q1 + q2), 0, 0.2*cos(q1) + 0.2*cos(q1 + q2)],\n",
       "[sin(q1 + q2),  cos(q1 + q2), 0, 0.2*sin(q1) + 0.2*sin(q1 + q2)],\n",
       "[           0,             0, 1,                              0],\n",
       "[           0,             0, 0,                              1]])"
      ]
     },
     "execution_count": 81,
     "metadata": {},
     "output_type": "execute_result"
    }
   ],
   "source": [
    "# La matriz de transformación desde la base al dummy es\n",
    "q1 = sp.symbols('q1')\n",
    "q2 = sp.symbols('q2')\n",
    "\n",
    "T = sp.simplify(symTfromDH(q1, 0, 0.2, 0)* symTfromDH(q2, 0, 0.2, 0))\n",
    "T"
   ]
  },
  {
   "attachments": {},
   "cell_type": "markdown",
   "metadata": {},
   "source": [
    "<h3> 2. Situamos el robot en un punto mediante cinemática inversa</h3>"
   ]
  },
  {
   "cell_type": "code",
   "execution_count": 82,
   "metadata": {},
   "outputs": [
    {
     "data": {
      "text/plain": [
       "(0.2*cos(q1) + 0.2*cos(q1 + q2) - 0.299999892711639,\n",
       " 0.2*sin(q1) + 0.2*sin(q1 + q2) - 0.149999976158142)"
      ]
     },
     "execution_count": 82,
     "metadata": {},
     "output_type": "execute_result"
    }
   ],
   "source": [
    "# definimos las coordenadas de destino\n",
    "#a = 0.3\n",
    "#b = 0\n",
    "\n",
    "returnCode,target=sim.simxGetObjectHandle(clientID,'Target',sim.simx_opmode_blocking)\n",
    "returnCode,pos_target=sim.simxGetObjectPosition(clientID, target, -1, sim.simx_opmode_blocking)\n",
    "\n",
    "# Ejemplo de nuevas coordenadas\n",
    "a=pos_target[0]\n",
    "b=pos_target[1]\n",
    "\n",
    "# definimos las ecuaciones a resolver\n",
    "ec1, ec2 = T[3]-a, T[7]-b\n",
    "(ec1, ec2)"
   ]
  },
  {
   "cell_type": "code",
   "execution_count": 83,
   "metadata": {},
   "outputs": [],
   "source": [
    "# ahora resolvemos la ecuación utilizando nsolve()\n",
    "try:\n",
    "    q = sp.nsolve((ec1, ec2),(q1,q2),(1,-1), prec=6)\n",
    "except:\n",
    "    print(\"no se pudo calcular\")\n",
    "    q = [0, 0, 0]\n",
    "q\n",
    "# enviamos los ángulos al robot\n",
    "retCode = sim.simxSetJointTargetPosition(clientID, joint1, q[0], sim.simx_opmode_oneshot)\n",
    "retCode = sim.simxSetJointTargetPosition(clientID, joint2, q[1], sim.simx_opmode_oneshot)"
   ]
  },
  {
   "cell_type": "code",
   "execution_count": 33,
   "metadata": {},
   "outputs": [],
   "source": [
    "# enviamos los ángulos al robot\n",
    "retCode = sim.simxSetJointTargetPosition(clientID, joint1, q[0], sim.simx_opmode_oneshot)\n",
    "retCode = sim.simxSetJointTargetPosition(clientID, joint2, q[1], sim.simx_opmode_oneshot)"
   ]
  },
  {
   "attachments": {},
   "cell_type": "markdown",
   "metadata": {},
   "source": [
    "<h3> 3. Y calculamos la cinemática diferencial en torno al punto de interés...</h3>"
   ]
  },
  {
   "cell_type": "code",
   "execution_count": null,
   "metadata": {},
   "outputs": [],
   "source": []
  }
 ],
 "metadata": {
  "kernelspec": {
   "display_name": "Python 3",
   "language": "python",
   "name": "python3"
  },
  "language_info": {
   "codemirror_mode": {
    "name": "ipython",
    "version": 3
   },
   "file_extension": ".py",
   "mimetype": "text/x-python",
   "name": "python",
   "nbconvert_exporter": "python",
   "pygments_lexer": "ipython3",
   "version": "3.8.6"
  }
 },
 "nbformat": 4,
 "nbformat_minor": 2
}
