{
 "cells": [
  {
   "cell_type": "code",
   "execution_count": 61,
   "metadata": {},
   "outputs": [
    {
     "name": "stdout",
     "output_type": "stream",
     "text": [
      "conectado a 19999\n"
     ]
    }
   ],
   "source": [
    "import sim\n",
    "import numpy as np\n",
    "import sympy as sp\n",
    "\n",
    "def connect(port):\n",
    "# Establece la conexión a VREP\n",
    "# port debe coincidir con el puerto de conexión en VREP\n",
    "# retorna el número de cliente o -1 si no puede establecer conexión\n",
    "    sim.simxFinish(-1) # just in case, close all opened connections\n",
    "    clientID=sim.simxStart('127.0.0.1',port,True,True,2000,5) # Conectarse\n",
    "    if clientID == 0: print(\"conectado a\", port)\n",
    "    else: print(\"no se pudo conectar\")\n",
    "    return clientID\n",
    "\n",
    "# Conectarse al servidor de VREP\n",
    "# *** ejecutar cada vez que se reinicia la simulación ***\n",
    "clientID = connect(19999)"
   ]
  },
  {
   "cell_type": "code",
   "execution_count": 62,
   "metadata": {},
   "outputs": [
    {
     "name": "stdout",
     "output_type": "stream",
     "text": [
      "22 23\n"
     ]
    }
   ],
   "source": [
    "returnCode,handle=sim.simxGetObjectHandle(clientID,'Dummy',sim.simx_opmode_blocking)\n",
    "dummy = handle\n",
    "\n",
    "# Identificar las Articulaciones\n",
    "ret,joint1=sim.simxGetObjectHandle(clientID,'Art_1',sim.simx_opmode_blocking)\n",
    "ret,joint2=sim.simxGetObjectHandle(clientID,'Art_2',sim.simx_opmode_blocking)\n",
    "print(joint1,joint2)"
   ]
  },
  {
   "cell_type": "code",
   "execution_count": 77,
   "metadata": {},
   "outputs": [],
   "source": [
    "q = [0,0]\n",
    "\n",
    "returnCode = sim.simxSetJointTargetPosition(clientID, joint1, q[0], sim.simx_opmode_oneshot)\n",
    "returnCode = sim.simxSetJointTargetPosition(clientID, joint2, q[1], sim.simx_opmode_oneshot)"
   ]
  },
  {
   "cell_type": "code",
   "execution_count": 10,
   "metadata": {},
   "outputs": [],
   "source": [
    "#Para Mover las articulaciones\n",
    "# Recordae que la pierna del robot está en > en relación a donde mira\n",
    "#  _ \n",
    "#   \\____ \n",
    "#    >>  >>\n",
    "# Si es negativo, se mueve para adelante\n",
    "# Si es positivo, se mueve para atras\n",
    "# Inicio, de pie el perro\n",
    "# Articulacion 1 (arriba): -90 a 30\n",
    "q1 = 0 * np.pi/180\n",
    "# Articulacion 2 (medio): -45 a 90\n",
    "q2 = 15 * np.pi/180\n",
    "returnCode = sim.simxSetJointTargetPosition(clientID, joint1, q1, sim.simx_opmode_oneshot)\n",
    "returnCode = sim.simxSetJointTargetPosition(clientID, joint2, q2, sim.simx_opmode_oneshot)\n"
   ]
  },
  {
   "cell_type": "code",
   "execution_count": 65,
   "metadata": {},
   "outputs": [],
   "source": [
    "angulo_articulacion1 = 0\n",
    "angulo_articulacion2 = 0\n",
    "for i in range(20):\n",
    "    angulo_articulacion1 = angulo_articulacion1 + 2\n",
    "    angulo_articulacion2 = angulo_articulacion2 + 2\n",
    "    q1 = angulo_articulacion1 * np.pi/180\n",
    "    # Articulacion 2 (medio): -45 a 90\n",
    "    q2 = angulo_articulacion2 * np.pi/180\n",
    "    returnCode = sim.simxSetJointTargetPosition(clientID, joint1, q1, sim.simx_opmode_oneshot)\n",
    "    returnCode = sim.simxSetJointTargetPosition(clientID, joint2, q2, sim.simx_opmode_oneshot)\n"
   ]
  },
  {
   "cell_type": "code",
   "execution_count": 97,
   "metadata": {},
   "outputs": [],
   "source": [
    "q1 = -75 * np.pi/180 # muslo\n",
    "# Articulacion 2 (medio): -45 a 90\n",
    "q2 = 76.604457 * np.pi/180 # rodilla\n",
    "returnCode = sim.simxSetJointTargetPosition(clientID, joint1, q1, sim.simx_opmode_oneshot)\n",
    "returnCode = sim.simxSetJointTargetPosition(clientID, joint2, q2, sim.simx_opmode_oneshot)"
   ]
  },
  {
   "cell_type": "code",
   "execution_count": 55,
   "metadata": {},
   "outputs": [
    {
     "name": "stdout",
     "output_type": "stream",
     "text": [
      "0.5235987901687622\n"
     ]
    }
   ],
   "source": [
    "# Ver angulo \n",
    "returnCode, pos1 = sim.simxGetJointPosition(clientID, joint1, sim.simx_opmode_blocking)\n",
    "print(pos1)"
   ]
  },
  {
   "cell_type": "code",
   "execution_count": 5,
   "metadata": {},
   "outputs": [
    {
     "name": "stdout",
     "output_type": "stream",
     "text": [
      "[-0.004999960772693157, -0.0750003233551979, 0.019999848678708076]\n"
     ]
    }
   ],
   "source": [
    "# Posición\n",
    "returnCode,pos=sim.simxGetObjectPosition(clientID, dummy, -1, sim.simx_opmode_blocking)\n",
    "# x = adelante o atras \n",
    "# z = altura\n",
    "# Print [x , y , z]\n",
    "print(pos)"
   ]
  },
  {
   "cell_type": "code",
   "execution_count": 25,
   "metadata": {},
   "outputs": [
    {
     "name": "stdout",
     "output_type": "stream",
     "text": [
      "0.35837085487300124 -0.03962739428216616\n"
     ]
    }
   ],
   "source": [
    "# Cinematica Directa\n",
    "q1 = -40 * np.pi/180\n",
    "# Articulacion 2 (medio): -45 a 90\n",
    "q2 = 90 * np.pi/180\n",
    "\n",
    "x = 0.2*np.cos(q1+q2)+0.3*np.cos(q1)\n",
    "y = 0.2*np.sin(q1+q2)+0.3*np.sin(q1)\n",
    "print(x,y)"
   ]
  },
  {
   "attachments": {},
   "cell_type": "markdown",
   "metadata": {},
   "source": [
    "### MOVER A DESTINO"
   ]
  },
  {
   "cell_type": "code",
   "execution_count": 37,
   "metadata": {},
   "outputs": [
    {
     "name": "stdout",
     "output_type": "stream",
     "text": [
      "-0.04206499829888344 0.07999999821186066\n",
      "Ángulo del muslo (hip): 117.73595430391761\n",
      "Ángulo de la rodilla (knee): 97.73825144411063\n"
     ]
    }
   ],
   "source": [
    "import math\n",
    "returnCode,target=sim.simxGetObjectHandle(clientID,'target',sim.simx_opmode_blocking)\n",
    "returnCode,p=sim.simxGetObjectPosition(clientID, target, -1, sim.simx_opmode_blocking)\n",
    "a,b = p[0], p[2]\n",
    "print(a,b)\n",
    "\n",
    "# Función para calcular la cinemática inversa de una pierna de dos articulaciones\n",
    "def calcular_cinematica_inversa(x, y, L1, L2):\n",
    "    # Calcular el ángulo del muslo (hip)\n",
    "    theta1 = math.atan2(y, x)\n",
    "\n",
    "    # Calcular el ángulo de la rodilla (knee)\n",
    "    r = math.sqrt(x**2 + y**2)\n",
    "    theta2 = math.acos((L1**2 + L2**2 - r**2) / (2 * L1 * L2))\n",
    "\n",
    "    return math.degrees(theta1), math.degrees(theta2)\n",
    "\n",
    "# Valores de prueba\n",
    "L1 = 0.06\n",
    "L2 = 0.06\n",
    "a,b = p[0], p[2]\n",
    "# Calcular la cinemática inversa\n",
    "theta1, theta2 = calcular_cinematica_inversa(a, b, L1, L2)\n",
    "\n",
    "# Imprimir los resultados\n",
    "print(\"Ángulo del muslo (hip):\", theta1)\n",
    "print(\"Ángulo de la rodilla (knee):\", theta2)\n",
    "#q1 = theta1 * np.pi/180\n",
    "# Articulacion 2 (medio): -45 a 90\n",
    "#q2 = theta2 * np.pi/180\n",
    "returnCode = sim.simxSetJointTargetPosition(clientID, joint1, theta2, sim.simx_opmode_oneshot)\n",
    "returnCode = sim.simxSetJointTargetPosition(clientID, joint2, theta1, sim.simx_opmode_oneshot)"
   ]
  },
  {
   "cell_type": "code",
   "execution_count": 106,
   "metadata": {},
   "outputs": [],
   "source": [
    "def symTfromDH(theta,d,a,alpha):\n",
    "    # theta y alpha en radianes\n",
    "    # d y a en metros\n",
    "    Rz = sp.Matrix([[sp.cos(theta), -sp.sin(theta), 0, 0],\n",
    "                    [sp.sin(theta), sp.cos(theta), 0, 0],\n",
    "                    [0, 0, 1, 0],\n",
    "                    [0, 0, 0, 1]\n",
    "                    ])\n",
    "    tz = sp.Matrix([[1, 0, 0, 0],\n",
    "                    [0, 1, 0, 0],\n",
    "                    [0, 0, 1, d],\n",
    "                    [0, 0, 0, 1],\n",
    "                    ])\n",
    "    ta = sp.Matrix([[1, 0, 0, a],\n",
    "                    [0, 1, 0, 0],\n",
    "                    [0, 0, 1, 0],\n",
    "                    [0, 0, 0, 1],\n",
    "                    ])\n",
    "    Rx = sp.Matrix([[1, 0, 0, 0],\n",
    "                    [0, sp.cos(alpha), -sp.sin(alpha), 0],\n",
    "                    [0, sp.sin(alpha), sp.cos(alpha), 0],\n",
    "                    [0, 0, 0, 1],\n",
    "                    ])\n",
    "    T = Rz*tz*ta*Rx\n",
    "    return T"
   ]
  },
  {
   "cell_type": "code",
   "execution_count": 15,
   "metadata": {},
   "outputs": [],
   "source": [
    "# Matriz de Denavit-Hartenber\n",
    "#   theta   |   d   |   a   |   alpha\n",
    "# ------------------------------------\n",
    "#   q1      |  0.15  | 0.06  |   90\n",
    "#   q2      |  0.1   | 0.06  |   90\n",
    "# ------------------------------------\n",
    "#"
   ]
  },
  {
   "cell_type": "code",
   "execution_count": 107,
   "metadata": {},
   "outputs": [
    {
     "data": {
      "text/latex": [
       "$\\displaystyle \\left[\\begin{matrix}\\cos{\\left(q_{1} \\right)} & - \\sin{\\left(q_{1} \\right)} & 0 & 0.06 \\cos{\\left(q_{1} \\right)}\\\\\\sin{\\left(q_{1} \\right)} & \\cos{\\left(q_{1} \\right)} & 0 & 0.06 \\sin{\\left(q_{1} \\right)}\\\\0 & 0 & 1 & 0.15\\\\0 & 0 & 0 & 1\\end{matrix}\\right]$"
      ],
      "text/plain": [
       "Matrix([\n",
       "[cos(q1), -sin(q1), 0, 0.06*cos(q1)],\n",
       "[sin(q1),  cos(q1), 0, 0.06*sin(q1)],\n",
       "[      0,        0, 1,         0.15],\n",
       "[      0,        0, 0,            1]])"
      ]
     },
     "execution_count": 107,
     "metadata": {},
     "output_type": "execute_result"
    }
   ],
   "source": [
    "q1 = sp.symbols('q1')\n",
    "T01 = symTfromDH(q1, 0.15, 0.06, 0)\n",
    "T01"
   ]
  },
  {
   "cell_type": "code",
   "execution_count": 108,
   "metadata": {},
   "outputs": [
    {
     "data": {
      "text/latex": [
       "$\\displaystyle \\left[\\begin{matrix}\\cos{\\left(q_{2} \\right)} & - \\sin{\\left(q_{2} \\right)} & 0 & 0.06 \\cos{\\left(q_{2} \\right)}\\\\\\sin{\\left(q_{2} \\right)} & \\cos{\\left(q_{2} \\right)} & 0 & 0.06 \\sin{\\left(q_{2} \\right)}\\\\0 & 0 & 1 & 0.1\\\\0 & 0 & 0 & 1\\end{matrix}\\right]$"
      ],
      "text/plain": [
       "Matrix([\n",
       "[cos(q2), -sin(q2), 0, 0.06*cos(q2)],\n",
       "[sin(q2),  cos(q2), 0, 0.06*sin(q2)],\n",
       "[      0,        0, 1,          0.1],\n",
       "[      0,        0, 0,            1]])"
      ]
     },
     "execution_count": 108,
     "metadata": {},
     "output_type": "execute_result"
    }
   ],
   "source": [
    "q2 = sp.symbols('q2')\n",
    "T02 = symTfromDH(q2, 0.1, 0.06, 0)\n",
    "T02"
   ]
  },
  {
   "cell_type": "code",
   "execution_count": 109,
   "metadata": {},
   "outputs": [
    {
     "data": {
      "text/latex": [
       "$\\displaystyle \\left[\\begin{matrix}- \\sin{\\left(q_{1} \\right)} \\sin{\\left(q_{2} \\right)} + \\cos{\\left(q_{1} \\right)} \\cos{\\left(q_{2} \\right)} & - \\sin{\\left(q_{1} \\right)} \\cos{\\left(q_{2} \\right)} - \\sin{\\left(q_{2} \\right)} \\cos{\\left(q_{1} \\right)} & 0 & - 0.06 \\sin{\\left(q_{1} \\right)} \\sin{\\left(q_{2} \\right)} + 0.06 \\cos{\\left(q_{1} \\right)} \\cos{\\left(q_{2} \\right)} + 0.06 \\cos{\\left(q_{1} \\right)}\\\\\\sin{\\left(q_{1} \\right)} \\cos{\\left(q_{2} \\right)} + \\sin{\\left(q_{2} \\right)} \\cos{\\left(q_{1} \\right)} & - \\sin{\\left(q_{1} \\right)} \\sin{\\left(q_{2} \\right)} + \\cos{\\left(q_{1} \\right)} \\cos{\\left(q_{2} \\right)} & 0 & 0.06 \\sin{\\left(q_{1} \\right)} \\cos{\\left(q_{2} \\right)} + 0.06 \\sin{\\left(q_{1} \\right)} + 0.06 \\sin{\\left(q_{2} \\right)} \\cos{\\left(q_{1} \\right)}\\\\0 & 0 & 1 & 0.25\\\\0 & 0 & 0 & 1\\end{matrix}\\right]$"
      ],
      "text/plain": [
       "Matrix([\n",
       "[-sin(q1)*sin(q2) + cos(q1)*cos(q2), -sin(q1)*cos(q2) - sin(q2)*cos(q1), 0, -0.06*sin(q1)*sin(q2) + 0.06*cos(q1)*cos(q2) + 0.06*cos(q1)],\n",
       "[ sin(q1)*cos(q2) + sin(q2)*cos(q1), -sin(q1)*sin(q2) + cos(q1)*cos(q2), 0,  0.06*sin(q1)*cos(q2) + 0.06*sin(q1) + 0.06*sin(q2)*cos(q1)],\n",
       "[                                 0,                                  0, 1,                                                        0.25],\n",
       "[                                 0,                                  0, 0,                                                           1]])"
      ]
     },
     "execution_count": 109,
     "metadata": {},
     "output_type": "execute_result"
    }
   ],
   "source": [
    "T0e = T01 * T02\n",
    "T0e"
   ]
  },
  {
   "cell_type": "code",
   "execution_count": 110,
   "metadata": {},
   "outputs": [
    {
     "data": {
      "text/latex": [
       "$\\displaystyle \\left[\\begin{matrix}\\cos{\\left(q_{1} + q_{2} \\right)} & - \\sin{\\left(q_{1} + q_{2} \\right)} & 0 & 0.06 \\cos{\\left(q_{1} \\right)} + 0.06 \\cos{\\left(q_{1} + q_{2} \\right)}\\\\\\sin{\\left(q_{1} + q_{2} \\right)} & \\cos{\\left(q_{1} + q_{2} \\right)} & 0 & 0.06 \\sin{\\left(q_{1} \\right)} + 0.06 \\sin{\\left(q_{1} + q_{2} \\right)}\\\\0 & 0 & 1 & 0.25\\\\0 & 0 & 0 & 1\\end{matrix}\\right]$"
      ],
      "text/plain": [
       "Matrix([\n",
       "[cos(q1 + q2), -sin(q1 + q2), 0, 0.06*cos(q1) + 0.06*cos(q1 + q2)],\n",
       "[sin(q1 + q2),  cos(q1 + q2), 0, 0.06*sin(q1) + 0.06*sin(q1 + q2)],\n",
       "[           0,             0, 1,                             0.25],\n",
       "[           0,             0, 0,                                1]])"
      ]
     },
     "execution_count": 110,
     "metadata": {},
     "output_type": "execute_result"
    }
   ],
   "source": [
    "T = sp.simplify(T0e)\n",
    "T"
   ]
  },
  {
   "attachments": {},
   "cell_type": "markdown",
   "metadata": {},
   "source": [
    "### Cinematica Inversa"
   ]
  },
  {
   "cell_type": "code",
   "execution_count": 130,
   "metadata": {},
   "outputs": [
    {
     "name": "stdout",
     "output_type": "stream",
     "text": [
      "-0.04206499829888344 -0.07999999821186066 0.07999999821186066\n"
     ]
    }
   ],
   "source": [
    "returnCode,target=sim.simxGetObjectHandle(clientID,'target',sim.simx_opmode_blocking)\n",
    "returnCode,p=sim.simxGetObjectPosition(clientID, target, -1, sim.simx_opmode_blocking)\n",
    "x,y,z = p[0],p[1],p[2]\n",
    "print(x,y,z)"
   ]
  },
  {
   "cell_type": "code",
   "execution_count": 131,
   "metadata": {},
   "outputs": [],
   "source": [
    "eq1 = T[3] - x"
   ]
  },
  {
   "cell_type": "code",
   "execution_count": 132,
   "metadata": {},
   "outputs": [],
   "source": [
    "eq2 = T[7] - z"
   ]
  },
  {
   "cell_type": "code",
   "execution_count": 133,
   "metadata": {},
   "outputs": [
    {
     "data": {
      "text/latex": [
       "$\\displaystyle \\left[\\begin{matrix}1.33701087020697\\\\1.43573836074796\\end{matrix}\\right]$"
      ],
      "text/plain": [
       "Matrix([\n",
       "[1.33701087020697],\n",
       "[1.43573836074796]])"
      ]
     },
     "execution_count": 133,
     "metadata": {},
     "output_type": "execute_result"
    }
   ],
   "source": [
    "q = sp.nsolve((eq1,eq2),(q1,q2),(1,1))\n",
    "q"
   ]
  },
  {
   "cell_type": "code",
   "execution_count": 134,
   "metadata": {},
   "outputs": [],
   "source": [
    "returnCode = sim.simxSetJointTargetPosition(clientID, joint1, q[0], sim.simx_opmode_oneshot)\n",
    "returnCode = sim.simxSetJointTargetPosition(clientID, joint2, q[1], sim.simx_opmode_oneshot)"
   ]
  },
  {
   "attachments": {},
   "cell_type": "markdown",
   "metadata": {},
   "source": [
    "#### Ecuacion de cinematica directa"
   ]
  },
  {
   "cell_type": "code",
   "execution_count": null,
   "metadata": {},
   "outputs": [],
   "source": [
    "c12 =12\n",
    "c1 = 12\n",
    "s12 =12\n",
    "s1 = 12\n",
    "x = 0.06 * c12 + 0.06 * c1\n",
    "y = 0.06 * s12 + 0.06 * s1"
   ]
  },
  {
   "cell_type": "code",
   "execution_count": 6,
   "metadata": {},
   "outputs": [
    {
     "name": "stdout",
     "output_type": "stream",
     "text": [
      "-0.04206499829888344 -0.07500080019235611\n"
     ]
    }
   ],
   "source": [
    "returnCode,target=sim.simxGetObjectHandle(clientID,'target',sim.simx_opmode_blocking)\n",
    "returnCode,p=sim.simxGetObjectPosition(clientID, target, -1, sim.simx_opmode_blocking)\n",
    "a,b = p[0], p[1]\n",
    "print(a,b)"
   ]
  },
  {
   "cell_type": "code",
   "execution_count": 170,
   "metadata": {},
   "outputs": [
    {
     "name": "stderr",
     "output_type": "stream",
     "text": [
      "C:\\Users\\jorge\\AppData\\Local\\Temp\\ipykernel_7988\\637676603.py:1: RuntimeWarning: invalid value encountered in arccos\n",
      "  q2 = np.arccos((a**2+b**2-0.13)/0.12)\n"
     ]
    },
    {
     "data": {
      "text/plain": [
       "nan"
      ]
     },
     "execution_count": 170,
     "metadata": {},
     "output_type": "execute_result"
    }
   ],
   "source": [
    "q2 = np.arccos((a**2+b**2-0.13)/0.12)\n",
    "q2"
   ]
  },
  {
   "cell_type": "code",
   "execution_count": 171,
   "metadata": {},
   "outputs": [
    {
     "data": {
      "text/plain": [
       "3.1415"
      ]
     },
     "execution_count": 171,
     "metadata": {},
     "output_type": "execute_result"
    }
   ],
   "source": [
    "# debe entregar un valor ente 0.0  y 3.1415 (pi)\n",
    "for q1 in np.arange(0,np.pi,0.0001):\n",
    "    if abs(0.2*np.cos(q1+q2)+0.3*np.cos(q1) - a) < 0.001:\n",
    "        break\n",
    "q1 "
   ]
  },
  {
   "attachments": {},
   "cell_type": "markdown",
   "metadata": {},
   "source": [
    "### CALCULO DE LA PARABOLA DE MOVIMIENTO"
   ]
  },
  {
   "cell_type": "code",
   "execution_count": 100,
   "metadata": {},
   "outputs": [],
   "source": [
    "import matplotlib.pyplot as plt"
   ]
  },
  {
   "cell_type": "code",
   "execution_count": 113,
   "metadata": {},
   "outputs": [
    {
     "data": {
      "image/png": "[encoded data removed]",
      "text/plain": [
       "<Figure size 640x480 with 1 Axes>"
      ]
     },
     "metadata": {},
     "output_type": "display_data"
    }
   ],
   "source": [
    "# Puntos dados\n",
    "\n",
    "# x = pos x   ,   y = pos z\n",
    "x1, y1 = 3, 0 # Posicion actual del dummy\n",
    "x2, y2 = x1+4, y1 # Posicion deseada del dummy\n",
    "\n",
    "# Resolver el sistema de ecuaciones para obtener los coeficientes de la parábola\n",
    "A = np.array([  [x1 ** 2, x1, 1],\n",
    "                [x2 ** 2, x2, 1],\n",
    "                [0  ** 2,  0, 1]])\n",
    "b = np.array([y1, y2, 0])\n",
    "coeffs = np.linalg.solve(A, b)\n",
    "\n",
    "# Generar puntos a lo largo de la parábola\n",
    "x = np.linspace(x1, x2, 100)\n",
    "y = coeffs[0] * x**2 + coeffs[1] * x + coeffs[2]\n",
    "\n",
    "num_points = 100\n",
    "retornoX = [x1 + i * (x2 - x1) / num_points for i in range(num_points+1)]\n",
    "retornoY = [y1 + i * (y2 - y1) / num_points for i in range(num_points+1)]\n",
    "\n",
    "# Dibujar la línea de puntos\n",
    "plt.plot(retornoX, retornoY, marker='o', linestyle='dotted')\n",
    "\n",
    "# Dibujar los puntos y la parábola\n",
    "plt.scatter([x1], [y1], color='green', label='Pos Actual')\n",
    "plt.scatter([x2], [y2], color='red', label='Destino')\n",
    "plt.plot(x, y, label='Parábola')\n",
    "plt.legend()\n",
    "\n",
    "# Opcional: establecer límites de los ejes para una mejor visualización\n",
    "plt.xlim(x1, x2)\n",
    "plt.ylim(y1, y2*1.2)\n",
    "\n",
    "# Mostrar el gráfico\n",
    "plt.show()"
   ]
  },
  {
   "cell_type": "code",
   "execution_count": 149,
   "metadata": {},
   "outputs": [
    {
     "name": "stdout",
     "output_type": "stream",
     "text": [
      "[ 0.          0.03999592  0.07917559  0.11753903  0.15508622  0.19181716\n",
      "  0.22773186  0.26283032  0.29711254  0.33057851  0.36322824  0.39506173\n",
      "  0.42607897  0.45627997  0.48566473  0.51423324  0.54198551  0.56892154\n",
      "  0.59504132  0.62034486  0.64483216  0.66850321  0.69135802  0.71339659\n",
      "  0.73461892  0.755025    0.77461484  0.79338843  0.81134578  0.82848689\n",
      "  0.84481175  0.86032038  0.87501275  0.88888889  0.90194878  0.91419243\n",
      "  0.92561983  0.936231    0.94602592  0.95500459  0.96316702  0.97051321\n",
      "  0.97704316  0.98275686  0.98765432  0.99173554  0.99500051  0.99744924\n",
      "  0.99908173  0.99989797  0.99989797  0.99908173  0.99744924  0.99500051\n",
      "  0.99173554  0.98765432  0.98275686  0.97704316  0.97051321  0.96316702\n",
      "  0.95500459  0.94602592  0.936231    0.92561983  0.91419243  0.90194878\n",
      "  0.88888889  0.87501275  0.86032038  0.84481175  0.82848689  0.81134578\n",
      "  0.79338843  0.77461484  0.755025    0.73461892  0.71339659  0.69135802\n",
      "  0.66850321  0.64483216  0.62034486  0.59504132  0.56892154  0.54198551\n",
      "  0.51423324  0.48566473  0.45627997  0.42607897  0.39506173  0.36322824\n",
      "  0.33057851  0.29711254  0.26283032  0.22773186  0.19181716  0.15508622\n",
      "  0.11753903  0.07917559  0.03999592 -0.        ]\n"
     ]
    },
    {
     "data": {
      "image/png": "[encoded data removed]",
      "text/plain": [
       "<Figure size 640x480 with 1 Axes>"
      ]
     },
     "metadata": {},
     "output_type": "display_data"
    }
   ],
   "source": [
    "# Puntos\n",
    "x1, y1 = 5, 0\n",
    "x2, y2 = 7, 0\n",
    "\n",
    "if y1 == 0 and y2 == 0:\n",
    "    # Parámetro para modificar la curvatura\n",
    "    a = -1.0  # Puedes ajustar este valor para cambiar la curvatura de la parábola\n",
    "    # Generar valores de x\n",
    "    x = np.linspace(x1, x2, 100)\n",
    "    # Calcular valores de y utilizando la ecuación de la parábola\n",
    "    y = a * (x - x1) * (x - x2)\n",
    "\n",
    "num_points = 100\n",
    "retornoX = [x1 + i * (x2 - x1) / num_points for i in range(num_points+1)]\n",
    "retornoY = [y1 + i * (y2 - y1) / num_points for i in range(num_points+1)]\n",
    "\n",
    "# Dibujar la línea de puntos\n",
    "plt.plot(retornoX, retornoY, marker='o', linestyle='dotted')\n",
    "# Graficar la parábola\n",
    "plt.plot(x, y)\n",
    "plt.xlabel('x')\n",
    "plt.ylabel('y')\n",
    "# Dibujar los puntos y la parábola\n",
    "plt.scatter([x1], [y1], color='green', label='Pos Actual')\n",
    "plt.scatter([x2], [y2], color='red', label='Destino')\n",
    "plt.grid(True)\n",
    "plt.show()"
   ]
  },
  {
   "cell_type": "code",
   "execution_count": 150,
   "metadata": {},
   "outputs": [
    {
     "data": {
      "image/png": "[encoded data removed]",
      "text/plain": [
       "<Figure size 640x480 with 1 Axes>"
      ]
     },
     "metadata": {},
     "output_type": "display_data"
    }
   ],
   "source": [
    "# Puntos dados\n",
    "x1, y1 = 1, 1\n",
    "x2, y2 = 5, 1\n",
    "\n",
    "# Resolver el sistema de ecuaciones para obtener los coeficientes de la parábola\n",
    "A = np.array([[x1**2, x1, 1],\n",
    "              [x2**2, x2, 1],\n",
    "              [0**2, 0, 1]])\n",
    "b = np.array([y1, y2, 0])\n",
    "coeffs = np.linalg.solve(A, b)\n",
    "\n",
    "# Generar puntos a lo largo de la parábola\n",
    "x = np.linspace(-5, 5, 100)\n",
    "y = coeffs[0] * x**2 + coeffs[1] * x + coeffs[2]\n",
    "\n",
    "# Dibujar los puntos y la parábola\n",
    "plt.scatter([x1, x2], [y1, y2], color='red', label='Puntos')\n",
    "plt.plot(x, y, label='Parábola')\n",
    "plt.legend()\n",
    "\n",
    "# Opcional: establecer límites de los ejes para una mejor visualización\n",
    "plt.xlim(-5, 5)\n",
    "plt.ylim(-10, 10)\n",
    "\n",
    "# Mostrar el gráfico\n",
    "plt.show()"
   ]
  }
 ],
 "metadata": {
  "kernelspec": {
   "display_name": "Python 3",
   "language": "python",
   "name": "python3"
  },
  "language_info": {
   "codemirror_mode": {
    "name": "ipython",
    "version": 3
   },
   "file_extension": ".py",
   "mimetype": "text/x-python",
   "name": "python",
   "nbconvert_exporter": "python",
   "pygments_lexer": "ipython3",
   "version": "3.8.6"
  },
  "orig_nbformat": 4
 },
 "nbformat": 4,
 "nbformat_minor": 2
}
